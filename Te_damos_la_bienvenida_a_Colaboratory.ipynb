{
  "cells": [
    {
      "cell_type": "markdown",
      "metadata": {
        "id": "view-in-github",
        "colab_type": "text"
      },
      "source": [
        "<a href=\"https://colab.research.google.com/github/DanielEAristizabalQ/Daniel_ejercicios_py/blob/main/Te_damos_la_bienvenida_a_Colaboratory.ipynb\" target=\"_parent\"><img src=\"https://colab.research.google.com/assets/colab-badge.svg\" alt=\"Open In Colab\"/></a>"
      ]
    },
    {
      "cell_type": "code",
      "source": [
        "# Ejemplo 1 - Condicionales\n",
        "colorLuz = 'verde'\n",
        "if colorLuz == 'verde':\n",
        " print( 'Puede pasar' )\n",
        "print( 'Buen viaje' )"
      ],
      "metadata": {
        "id": "OrdpKmxYifGK"
      },
      "execution_count": null,
      "outputs": []
    },
    {
      "cell_type": "code",
      "source": [
        "\n",
        "# Ejemplo 2 - Condicionales simples\n",
        "print( \"Ingrese su edad:\" )\n",
        "edad = int( input() )\n",
        "if edad >= 18 :\n",
        " print( \"Puede ingresar al bar\" )\n",
        "else:\n",
        "print(\"No puede ingresar al bar\")\n"
      ],
      "metadata": {
        "id": "rotQf9k5igPH"
      },
      "execution_count": null,
      "outputs": []
    },
    {
      "cell_type": "code",
      "source": [
        " # Ejemplo 3 - Condicionales simples\n",
        "print( \"Ingrese le calificación: \" )\n",
        "calificacion = int( input() )\n",
        "if calificacion > 5 :\n",
        " print( \"Aprobó el examen\" )\n",
        "else:\n",
        "print(\"No aprobó el examen\")"
      ],
      "metadata": {
        "id": "Bg3iWe2NiiMK"
      },
      "execution_count": null,
      "outputs": []
    },
    {
      "cell_type": "code",
      "source": [
        "# Ejemplo 4 - Condicionales simples\n",
        "print( \"Ingrese el sueldo actual: \" )\n",
        "sueldoActual = float( input() )\n",
        "if sueldoActual < 1000000 :\n",
        " incremento = sueldoActual * 0.05\n",
        " nuevoSueldo = incremento + sueldoActual\n",
        " print( \"El nuevo sueldo es: \", nuevoSueldo )"
      ],
      "metadata": {
        "id": "BduWrNQpilA6"
      },
      "execution_count": null,
      "outputs": []
    },
    {
      "cell_type": "code",
      "source": [
        " # Ejemplo 5 - Condicionales dobles\n",
        "colorLuz = 'rojo'\n",
        "if colorLuz == 'verde':\n",
        " print( 'Puede pasar' )\n",
        "else:\n",
        " print( \"Alto\" )"
      ],
      "metadata": {
        "id": "Nb6VdTcmimU0"
      },
      "execution_count": null,
      "outputs": []
    },
    {
      "cell_type": "code",
      "source": [
        " # Ejemplo 6 - Condicionales dobles\n",
        "print( \"Ingrese su edad:\" )\n",
        "edad = int( input() )\n",
        "if edad >= 18 :\n",
        " print( \"Puede ingresar al bar\" )\n",
        "else:\n",
        " print( \"No puede ingresar al bar\" )"
      ],
      "metadata": {
        "id": "dXqJEpcrioy7"
      },
      "execution_count": null,
      "outputs": []
    },
    {
      "cell_type": "code",
      "source": [
        " #Solucion ejemplo 7\n",
        "print(\"Ingrese la estatura:\" )\n",
        "estatura float (input())\n",
        "if estatura > 1.55:\n",
        "print(\"puede ingresar\")\n",
        "else:\n",
        "print(\"No puede ingresar \")"
      ],
      "metadata": {
        "id": "w7BC5XT6iqfq"
      },
      "execution_count": null,
      "outputs": []
    },
    {
      "cell_type": "code",
      "source": [
        "#Solucion ejemplo 8\n",
        "print(\"Ingrese el primer número:\")\n",
        "numerol\n",
        "int(input())\n",
        "print(\"Ingrese el segundo número:\")\n",
        "numero2= int(input( ) )\n",
        "if numerol > numero2 :\n",
        "print(\"El mayor es: \", numerol)\n",
        "else:\n",
        "print(\"El mayor es: \", numero2 )"
      ],
      "metadata": {
        "id": "X_Vpfyi4isWa"
      },
      "execution_count": null,
      "outputs": []
    },
    {
      "cell_type": "code",
      "source": [
        "#Solucion ejemplo 9\n",
        "print( \"Ingrese el día:\" )\n",
        "dia= input()\n",
        "print( \"Ingrese el precio de la boleta:\" )\n",
        " precioBoleta = float(input( ) )\n",
        "if dia == \"martes\" :\n",
        "valor Pagar = precioBoleta * 0.50\n",
        "else:\n",
        "valor Pagar = precioBoleta\n",
        "print(\"El precio por pagar para la boleta es: \", valorPagar)"
      ],
      "metadata": {
        "id": "YUnny6iziu3c"
      },
      "execution_count": null,
      "outputs": []
    },
    {
      "cell_type": "code",
      "source": [
        "#Solucion ejemplo 10\n",
        "print(\"Ingrese su edad:\" )\n",
        "edad = int(input())\n",
        "if edad >= 18 :\n",
        "print(\"Puede ejercer su derecho a voto\" )\n",
        "else:\n",
        "print(\"No puede ejercer su derecho a voto\" )\n",
        "\n"
      ],
      "metadata": {
        "id": "kccXubpTiy5P"
      },
      "execution_count": null,
      "outputs": []
    },
    {
      "cell_type": "code",
      "source": [
        "#or\n",
        "print( \"Ingrese su edad: \" )\n",
        "edad = int( input() )\n",
        "if edad < 18 :\n",
        " print( \"NO puede ejercer el derecho al voto\" )\n",
        "else :\n",
        " print( \"Puede ejercer el derecho al voto\" )"
      ],
      "metadata": {
        "id": "KP1V3TDNi1AY"
      },
      "execution_count": null,
      "outputs": []
    },
    {
      "cell_type": "code",
      "source": [
        "#Solucion ejemplo 11\n",
        "print(\"ingrese el numero sea par o impar:\")\n",
        "numero = int(input())\n",
        "if numero % 2 == 0:\n",
        "print(\"El numero es par\")\n",
        "else:\n",
        "print(\"El numero es impar\")"
      ],
      "metadata": {
        "id": "4mUmj9xUi1q1"
      },
      "execution_count": null,
      "outputs": []
    },
    {
      "cell_type": "code",
      "source": [
        "# Ejemplo 12 - Instrucciones condicionales múltiples en cascada\n",
        "colorLuz = 'verde'\n",
        "if colorLuz == 'verde' :\n",
        " print( \"Puede pasar\" )\n",
        "elif colorLuz == 'amarillo' :\n",
        " print( \"Atención, va a presentarse cambio de color\" )\n",
        "else :\n",
        " print( \"Alto!!\" )\n",
        "print( \"Buen viaje\" )"
      ],
      "metadata": {
        "id": "cW2cEUBqi3tJ"
      },
      "execution_count": null,
      "outputs": []
    },
    {
      "cell_type": "code",
      "source": [
        "# Ejemplo 13 - Instrucciones condicionales múltiples en cascada\n",
        "# Datos de Entrada\n",
        "print( \"Ingrese el número\" )\n",
        "numero = int( input() )\n",
        "# Proceso: Determinar que tipo de número es\n",
        "if numero > 0 :\n",
        " print( \"El número es positivo\" )\n",
        "elif numero < 0 :\n",
        " print( \"El número es negativo\" )\n",
        "else :\n",
        " print( \"El número es cero\" )"
      ],
      "metadata": {
        "id": "PoPfKUGyi5cq"
      },
      "execution_count": null,
      "outputs": []
    },
    {
      "cell_type": "code",
      "source": [
        " # Ejemplo 14 - Instrucciones condicionales múltiples en cascada\n",
        "# Entrada\n",
        "print( \"Ingrese la nota final: \" )\n",
        "nota = float( input() )\n",
        "# Proceso: Determinar si aprueba, reprueba o queda en opción de habilitar\n",
        "if nota >= 3.0 :\n",
        " print( \"Aprobó el curso\" )\n",
        "elif nota < 2.5 :\n",
        " print( \"Reprobó el curso\" )\n",
        "else # la nota es mayor o igual 2.5 y es menor a 3.0\n",
        " print( \"Tiene opción de habilitar\" )"
      ],
      "metadata": {
        "id": "j8gj2oqWi7Ds"
      },
      "execution_count": null,
      "outputs": []
    },
    {
      "cell_type": "code",
      "source": [
        " # Ejemplo 15 - Instrucciones condicionales dobles con operador lógico (Y)\n",
        "# Entrada\n",
        "print( \"Ingrese el número: \" )\n",
        "numero = int( input() )\n",
        "# Proceso: Evaluar si el número está entre 1 y 10\n",
        "if numero >= 1 and numero <= 10 :\n",
        " print( \"El número está dentro del intervalo [1, 10]\" )\n",
        "else :\n",
        " print( \"El número NO está en el intervalo [1, 10]\")\n"
      ],
      "metadata": {
        "id": "gx06SnNujDzU"
      },
      "execution_count": null,
      "outputs": []
    },
    {
      "cell_type": "markdown",
      "source": [
        "Ejercicio 1\n",
        "En una tienda efectúan un descuento a los clientes\n",
        "dependiendo del valor de la compra. El descuento se efectúa\n",
        "con base en el siguiente criterio:\n",
        "• Si el valor es menor que $500.000, no hay descuento.\n",
        "• Si el valor está comprendido entre $500.000 y $1.000.000\n",
        "inclusive, se otorga un 5% de descuento.\n",
        "• Si el valor es mayor a $1.000.000, se otorga un 10% de\n",
        "descuento\n",
        "Construya un script tal que dado el valor de la compra de un\n",
        "cliente, determine lo que el mismo debe pagar teniendo en\n",
        "cuenta el descuento que aplica."
      ],
      "metadata": {
        "id": "293S13KykTYw"
      }
    },
    {
      "cell_type": "code",
      "source": [
        "#Sistema de descuentos para tienda (VERSIÓN CON FORMATO FORMATEADO)\n",
        "# Entrada\n",
        "print(\"\\n¡¡ VERSIÓN CON FORMATO FORMATEADO !!\")\n",
        "print(\"Ingrese el valor de la compra:\")\n",
        "valorCompra2 = float(input())\n",
        "\n",
        "# Proceso: Calcular descuento según el valor de la compra\n",
        "if valorCompra2 < 500000:\n",
        "    descuento2 = 0\n",
        "    porcentajeDescuento2 = 0\n",
        "elif valorCompra2 >= 500000 and valorCompra2 <= 1000000:\n",
        "    descuento2 = valorCompra2 * 0.05\n",
        "    porcentajeDescuento2 = 5\n",
        "else:  # valorCompra2 > 1000000\n",
        "    descuento2 = valorCompra2 * 0.10\n",
        "    porcentajeDescuento2 = 10\n",
        "\n",
        "# Calcular valor final a pagar\n",
        "valorFinal2 = valorCompra2 - descuento2\n",
        "\n",
        "# Salida con formato formateado\n",
        "print(f\"Valor de la compra: ${valorCompra2:,.2f}\")\n",
        "print(f\"Descuento aplicado: {porcentajeDescuento2}%\")\n",
        "print(f\"Valor del descuento: ${descuento2:,.2f}\")\n",
        "print(f\"Valor final a pagar: ${valorFinal2:,.2f}\")\n",
        "\n",
        "#Desglose del formato :,.2f:\n",
        "#: - indica que viene un formato\n",
        "#, - separador de miles (agrega comas cada 3 dígitos)\n",
        "#.2 - 2 decimales (muestra exactamente 2 dígitos después del punto)\n",
        "#f - float (número decimal)\n",
        "# print(f\"texto {variable} más texto\") - imprime el texto y la variable"
      ],
      "metadata": {
        "id": "52z2oAQtjJf9"
      },
      "execution_count": null,
      "outputs": []
    },
    {
      "cell_type": "markdown",
      "source": [
        "Ejercicio 2\n",
        "El costo de las llamadas telefónicas internacionales a través\n",
        "de dispositivo móvil (celular) depende de la zona geográfica\n",
        "en la que se encuentre el país destino y del número de minutos\n",
        "hablados. En la siguiente tabla se presenta el costo del minuto\n",
        "por zona.\n",
        "País Costo por minuto\n",
        "Estados Unidos $1.000\n",
        "México $800\n",
        "Venezuela $500\n",
        "Otro $1.300\n",
        "Escribir un script que le permita calcular e imprimir el costo\n",
        "total de una llamada dependiendo del país destino y el número\n",
        "de minutos hablados."
      ],
      "metadata": {
        "id": "k9KTz-fzj5Bu"
      }
    },
    {
      "cell_type": "code",
      "source": [
        "# Calculadora de llamadas internacionales\n",
        "# Entrada\n",
        "print(\"\\n¡¡ CALCULADORA DE LLAMADAS INTERNACIONALES !!\") #Con \\n - salto de línea dentro del mismo print, si no se pone \\n se imprime en la misma linea\n",
        "print(\"Países disponibles:\")\n",
        "print(\"1. Estados Unidos - $1.000 por minuto\")\n",
        "print(\"2. México - $800 por minuto\")\n",
        "print(\"3. Venezuela - $500 por minuto\")\n",
        "print(\"4. Otro país - $1.300 por minuto\")\n",
        "print(\"\\nIngrese el número del país (1-4):\")\n",
        "pais = int(input())\n",
        "print(\"Ingrese el número de minutos hablados:\")\n",
        "minutos = float(input())\n",
        "\n",
        "# Proceso: Calcular costo según el país\n",
        "if pais == 1:  # Estados Unidos\n",
        "    costoMinuto = 1000\n",
        "    nombrePais = \"Estados Unidos\"\n",
        "elif pais == 2:  # México\n",
        "    costoMinuto = 800\n",
        "    nombrePais = \"México\"\n",
        "elif pais == 3:  # Venezuela\n",
        "    costoMinuto = 500\n",
        "    nombrePais = \"Venezuela\"\n",
        "elif pais == 4:  # Otro país\n",
        "    costoMinuto = 1300\n",
        "    nombrePais = \"Otro país\"\n",
        "else:\n",
        "    print(\"Opción no válida\")\n",
        "    costoMinuto = 0\n",
        "    nombrePais = \"No válido\"\n",
        "\n",
        "# Calcular costo total\n",
        "costoTotal = minutos * costoMinuto\n",
        "\n",
        "# Salida\n",
        "print(\"\\n¡¡ RESULTADO !!\")\n",
        "print(\"País destino:\", nombrePais)\n",
        "print(\"Minutos hablados:\", minutos)\n",
        "print(\"Costo por minuto: $\", costoMinuto)\n",
        "print(\"Costo total: $\", costoTotal)"
      ],
      "metadata": {
        "id": "VNCU9SUdjcds"
      },
      "execution_count": null,
      "outputs": []
    },
    {
      "cell_type": "markdown",
      "source": [
        "Ejercicio 3\n",
        "Escriba un script que permita calcular lo que hay que pagarle\n",
        "a un trabajador teniendo en cuenta su sueldo y las horas\n",
        "extras trabajadas. Para el pago de horas extras se toma en\n",
        "cuenta la categoría del trabajador.\n",
        "Categoría Precio Hora\n",
        "Extra\n",
        "1 $10.000\n",
        "2 $12.000\n",
        "3 $15.000\n",
        "4 $20.000\n",
        "Cada trabajador puede tener como máximo 30 horas extras,\n",
        "si tienen más sólo se les pagarán 30. A los trabajadores con\n",
        "categoría mayor a 4 no debemos pagarle horas extras.\n",
        "Por ejemplo,\n",
        "Si un trabajador tiene categoría 1, su sueldo es $2.000.000 y\n",
        "trabajó 5 horas extras, el valor del sueldo por pagar es:\n",
        "La hora extra se paga a $10.000 a un trabajador categoría 1\n",
        "El valor por horas extras es: 5 * $10.000 = $50.000\n",
        "El sueldo por pagar es: $2.000.000 + $50.000 = $2.050.000"
      ],
      "metadata": {
        "id": "Td9olSpYlSic"
      }
    },
    {
      "cell_type": "code",
      "source": [
        "# Calculadora de sueldo con horas extras\n",
        "# Entrada\n",
        "print(\"\\n¡¡ CALCULADORA DE SUELDO CON HORAS EXTRAS !!\")\n",
        "print(\"Categorías disponibles:\")\n",
        "print(\"1 - $10.000 por hora extra\")\n",
        "print(\"2 - $12.000 por hora extra\")\n",
        "print(\"3 - $15.000 por hora extra\")\n",
        "print(\"4 - $20.000 por hora extra\")\n",
        "print(\"Categorías mayores a 4 NO tienen horas extras\")\n",
        "print(\"\\nIngrese la categoría del trabajador (1-4):\")\n",
        "categoria = int(input())\n",
        "print(\"Ingrese el sueldo base del trabajador:\")\n",
        "sueldoBase = float(input())\n",
        "print(\"Ingrese las horas extras trabajadas:\")\n",
        "horasExtras = int(input())\n",
        "\n",
        "# Proceso: Calcular pago según categoría y horas extras\n",
        "if categoria == 1:\n",
        "    precioHoraExtra = 10000\n",
        "elif categoria == 2:\n",
        "    precioHoraExtra = 12000\n",
        "elif categoria == 3:\n",
        "    precioHoraExtra = 15000\n",
        "elif categoria == 4:\n",
        "    precioHoraExtra = 20000\n",
        "else:\n",
        "    precioHoraExtra = 0\n",
        "    print(\"Categoría mayor a 4 - NO se pagan horas extras\")\n",
        "\n",
        "# Limitar horas extras a máximo 30\n",
        "if horasExtras > 30:\n",
        "    horasExtrasPagar = 30\n",
        "    print(\"Las horas extras se limitan a máximo 30\")\n",
        "else:\n",
        "    horasExtrasPagar = horasExtras\n",
        "\n",
        "# Calcular pago por horas extras\n",
        "pagoHorasExtras = horasExtrasPagar * precioHoraExtra\n",
        "\n",
        "# Calcular sueldo total\n",
        "sueldoTotal = sueldoBase + pagoHorasExtras\n",
        "\n",
        "# Salida\n",
        "print(\"\\n¡¡ RESULTADO !!\")\n",
        "print(\"Categoría del trabajador:\", categoria)\n",
        "print(\"Sueldo base: $\", sueldoBase)\n",
        "print(\"Horas extras trabajadas:\", horasExtras)\n",
        "print(\"Horas extras a pagar:\", horasExtrasPagar)\n",
        "print(\"Precio por hora extra: $\", precioHoraExtra)\n",
        "print(\"Pago por horas extras: $\", pagoHorasExtras)\n",
        "print(\"Sueldo total a pagar: $\", sueldoTotal)\n"
      ],
      "metadata": {
        "id": "s8TLAmbfjs1u"
      },
      "execution_count": null,
      "outputs": []
    },
    {
      "cell_type": "markdown",
      "source": [
        "Ejercicio 4\n",
        "En un hospital se ha hecho un estudio sobre los pacientes\n",
        "registrados durante los últimos 10 años, con el objeto de\n",
        "hacer una aproximación de los costos de internación por\n",
        "paciente. Se obtuvo un costo promedio diario según el tipo de\n",
        "enfermedad que aqueja al paciente. Además, se pudo\n",
        "determinar que en promedio todos los pacientes con edad\n",
        "entre 14 y 22 años implican un costo adicional del 10%. La\n",
        "siguiente tabla expresa los costos diarios, según el tipo de\n",
        "enfermedad.\n",
        "Tipo de\n",
        "Enfermedad\n",
        "Costo diario por\n",
        "paciente\n",
        "A $25.000\n",
        "B $16.000\n",
        "C $20.000\n",
        "D $32.000\n",
        "Construya un script que calcule e imprima el costo total que\n",
        "representa un paciente."
      ],
      "metadata": {
        "id": "LqOptQ9klT-k"
      }
    },
    {
      "cell_type": "code",
      "source": [
        "#Calculadora de costos hospitalarios\n",
        "# Entrada\n",
        "print(\"\\n¡¡ CALCULADORA DE COSTOS HOSPITALARIOS !!\")\n",
        "print(\"Tipos de enfermedad disponibles:\")\n",
        "print(\"A - $25.000 por día\")\n",
        "print(\"B - $16.000 por día\")\n",
        "print(\"C - $20.000 por día\")\n",
        "print(\"D - $32.000 por día\")\n",
        "print(\"\\nIngrese el tipo de enfermedad (A, B, C, D):\")\n",
        "tipoEnfermedad = input().upper()\n",
        "print(\"Ingrese la edad del paciente:\")\n",
        "edad = int(input())\n",
        "print(\"Ingrese el número de días de internación:\")\n",
        "diasInternacion = int(input())\n",
        "\n",
        "# Proceso: Calcular costo según tipo de enfermedad\n",
        "if tipoEnfermedad == \"A\":\n",
        "    costoDiario = 25000\n",
        "elif tipoEnfermedad == \"B\":\n",
        "    costoDiario = 16000\n",
        "elif tipoEnfermedad == \"C\":\n",
        "    costoDiario = 20000\n",
        "elif tipoEnfermedad == \"D\":\n",
        "    costoDiario = 32000\n",
        "else:\n",
        "    print(\"Tipo de enfermedad no válido\")\n",
        "    costoDiario = 0\n",
        "\n",
        "# Calcular costo base\n",
        "costoBase = diasInternacion * costoDiario\n",
        "\n",
        "# Verificar si aplica costo adicional por edad (14-22 años)\n",
        "if edad >= 14 and edad <= 22:\n",
        "    costoAdicional = costoBase * 0.10\n",
        "    aplicaAdicional = True\n",
        "else:\n",
        "    costoAdicional = 0\n",
        "    aplicaAdicional = False\n",
        "\n",
        "# Calcular costo total\n",
        "costoTotal = costoBase + costoAdicional\n",
        "\n",
        "# Salida\n",
        "print(\"\\n¡¡ RESULTADO !!\")\n",
        "print(\"Tipo de enfermedad:\", tipoEnfermedad)\n",
        "print(\"Edad del paciente:\", edad)\n",
        "print(\"Días de internación:\", diasInternacion)\n",
        "print(\"Costo diario: $\", costoDiario)\n",
        "print(\"Costo base: $\", costoBase)\n",
        "if aplicaAdicional:\n",
        "    print(\"Costo adicional (10% por edad 14-22): $\", costoAdicional)\n",
        "else:\n",
        "    print(\"No aplica costo adicional por edad\")\n",
        "print(\"Costo total: $\", costoTotal)"
      ],
      "metadata": {
        "id": "7-Tun0Cjldjd"
      },
      "execution_count": null,
      "outputs": []
    },
    {
      "cell_type": "markdown",
      "source": [
        "Ejercicio Propuesto 5\n",
        "Leer 3 números y determinar cuál es el menor. Asuma que los\n",
        "números son diferentes.\n",
        "Si se tienen tres números a, b y c, entonces a es el menor si\n",
        "se cumplen dos condiciones: a < b y a < c"
      ],
      "metadata": {
        "id": "w8d5e-LwmDHN"
      }
    },
    {
      "cell_type": "code",
      "source": [
        "Determinar el menor de tres números\n",
        "# Entrada\n",
        "print(\"\\n¡¡ DETERMINAR EL MENOR DE TRES NÚMEROS !!\")\n",
        "print(\"Ingrese el primer número:\")\n",
        "a = float(input())\n",
        "print(\"Ingrese el segundo número:\")\n",
        "b = float(input())\n",
        "print(\"Ingrese el tercer número:\")\n",
        "c = float(input())\n",
        "\n",
        "# Proceso: Determinar cuál es el menor\n",
        "if a < b and a < c:\n",
        "    menor = a\n",
        "    numeroMenor = \"primero\"\n",
        "elif b < a and b < c:\n",
        "    menor = b\n",
        "    numeroMenor = \"segundo\"\n",
        "else:  # c < a and c < b\n",
        "    menor = c\n",
        "    numeroMenor = \"tercero\"\n",
        "\n",
        "# Salida\n",
        "print(\"\\n¡¡ RESULTADO !!\")\n",
        "print(\"Primer número:\", a)\n",
        "print(\"Segundo número:\", b)\n",
        "print(\"Tercer número:\", c)\n",
        "print(\"El menor es el\", numeroMenor, \"número:\", menor)"
      ],
      "metadata": {
        "id": "ZagNc3DdmH30"
      },
      "execution_count": null,
      "outputs": []
    },
    {
      "cell_type": "markdown",
      "source": [
        "Ejercicio Propuesto 6\n",
        "Leer 4 números y determinar cuál es el mayor. Asuma que los\n",
        "números son diferentes."
      ],
      "metadata": {
        "id": "ymmUcDaJmPDS"
      }
    },
    {
      "cell_type": "code",
      "source": [
        "#Determinar el mayor de cuatro números\n",
        "# Entrada\n",
        "print(\"\\n¡¡ DETERMINAR EL MAYOR DE CUATRO NÚMEROS !!\")\n",
        "print(\"Ingrese el primer número:\")\n",
        "a = float(input())\n",
        "print(\"Ingrese el segundo número:\")\n",
        "b = float(input())\n",
        "print(\"Ingrese el tercer número:\")\n",
        "c = float(input())\n",
        "print(\"Ingrese el cuarto número:\")\n",
        "d = float(input())\n",
        "\n",
        "# Proceso: Determinar cuál es el mayor\n",
        "if a > b and a > c and a > d:\n",
        "    mayor = a\n",
        "    numeroMayor = \"primero\"\n",
        "elif b > a and b > c and b > d:\n",
        "    mayor = b\n",
        "    numeroMayor = \"segundo\"\n",
        "elif c > a and c > b and c > d:\n",
        "    mayor = c\n",
        "    numeroMayor = \"tercero\"\n",
        "else:  # d > a and d > b and d > c\n",
        "    mayor = d\n",
        "    numeroMayor = \"cuarto\"\n",
        "\n",
        "# Salida\n",
        "print(\"\\n¡¡ RESULTADO !!\")\n",
        "print(\"Primer número:\", a)\n",
        "print(\"Segundo número:\", b)\n",
        "print(\"Tercer número:\", c)\n",
        "print(\"Cuarto número:\", d)\n",
        "print(\"El mayor es el\", numeroMayor, \"número:\", mayor)"
      ],
      "metadata": {
        "id": "U7RJML18mURf"
      },
      "execution_count": null,
      "outputs": []
    }
  ],
  "metadata": {
    "colab": {
      "name": "Te damos la bienvenida a Colaboratory",
      "toc_visible": true,
      "provenance": [],
      "include_colab_link": true
    },
    "kernelspec": {
      "display_name": "Python 3",
      "name": "python3"
    }
  },
  "nbformat": 4,
  "nbformat_minor": 0
}