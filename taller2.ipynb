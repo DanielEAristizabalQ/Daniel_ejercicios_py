{
  "nbformat": 4,
  "nbformat_minor": 0,
  "metadata": {
    "colab": {
      "provenance": [],
      "authorship_tag": "ABX9TyPD4oDaCQ/O3SC0efC1vndK",
      "include_colab_link": true
    },
    "kernelspec": {
      "name": "python3",
      "display_name": "Python 3"
    },
    "language_info": {
      "name": "python"
    }
  },
  "cells": [
    {
      "cell_type": "markdown",
      "metadata": {
        "id": "view-in-github",
        "colab_type": "text"
      },
      "source": [
        "<a href=\"https://colab.research.google.com/github/DanielEAristizabalQ/Daniel_ejercicios_py/blob/main/taller2.ipynb\" target=\"_parent\"><img src=\"https://colab.research.google.com/assets/colab-badge.svg\" alt=\"Open In Colab\"/></a>"
      ]
    },
    {
      "cell_type": "markdown",
      "source": [
        "Recibo de compra online: Un estudiante compra 3\n",
        "productos en una tienda virtual. Se ingresan los precios\n",
        "y se debe calcular el subtotal, el IVA (19 %) y el total a\n",
        "pagar.\n",
        "Se deben leer 3 valores,\n",
        "sumarlos, calcular IVA y total.\n",
        "Usar operaciones aritméticas\n",
        "básicas.\n"
      ],
      "metadata": {
        "id": "cE_7646-heqC"
      }
    },
    {
      "cell_type": "code",
      "source": [
        "print(\" RECIBO DE COMPRA ONLINE \")\n",
        "precio1 = float(input(\"Ingrese el precio del primer producto: $\"))\n",
        "precio2 = float(input(\"Ingrese el precio del segundo producto: $\"))\n",
        "precio3 = float(input(\"Ingrese el precio del tercer producto: $\"))\n",
        "\n",
        "subtotal = precio1 + precio2 + precio3\n",
        "iva = subtotal * 0.19\n",
        "total = subtotal + iva\n",
        "\n",
        "print(f\"\\n--- RECIBO ---\")\n",
        "print(f\"Subtotal: ${subtotal:,.0f}\")\n",
        "print(f\"IVA (19%): ${iva:,.0f}\")\n",
        "print(f\"TOTAL A PAGAR: ${total:,.0f}\")"
      ],
      "metadata": {
        "id": "t8x3nXoZhqYB"
      },
      "execution_count": null,
      "outputs": []
    },
    {
      "cell_type": "markdown",
      "source": [
        "Conversión de apuestas deportivas: Un joven recibe\n",
        "una ganancia en dólares por una apuesta deportiva.\n",
        "Ingresar su valor en USD y convertirlo a pesos\n",
        "colombianos (Tasa ingresada por el usuario).\n",
        "Multiplicar cantidad en USD\n",
        "por tasa ingresada. Mostrar con\n",
        "formato.\n"
      ],
      "metadata": {
        "id": "IQAGaskvh1S5"
      }
    },
    {
      "cell_type": "code",
      "source": [
        "print(\" CONVERSIÓN DE DÓLARES A PESOS \")\n",
        "dolares = float(input(\"Ingrese la cantidad en dólares (USD): $\"))\n",
        "tasa_cambio = float(input(\"Ingrese la tasa de cambio (USD a COP): \"))\n",
        "\n",
        "pesos_colombianos = dolares * tasa_cambio\n",
        "\n",
        "print(f\"\\n${dolares:,.2f} USD = ${pesos_colombianos:,.0f} COP\")"
      ],
      "metadata": {
        "id": "wYJYy34Wh6uD"
      },
      "execution_count": null,
      "outputs": []
    },
    {
      "cell_type": "markdown",
      "source": [
        "Consumo eléctrico domiciliario: Ingresar el consumo\n",
        "en kWh y calcular cuánto debe pagar si cada kWh\n",
        "cuesta $620.\n",
        "Multiplicación directa. Se\n",
        "recomienda usar variables\n",
        "descriptivas."
      ],
      "metadata": {
        "id": "4HTxqNrxh9_i"
      }
    },
    {
      "cell_type": "code",
      "source": [
        "print(\" CÁLCULO DE CONSUMO ELÉCTRICO \")\n",
        "consumo_kwh = float(input(\"Ingrese el consumo en kWh: \"))\n",
        "costo_por_kwh = 620\n",
        "\n",
        "total_pagar = consumo_kwh * costo_por_kwh\n",
        "\n",
        "print(f\"\\nConsumo: {consumo_kwh} kWh\")\n",
        "print(f\"Costo por kWh: ${costo_por_kwh:,}\")\n",
        "print(f\"TOTAL A PAGAR: ${total_pagar:,.0f}\")"
      ],
      "metadata": {
        "id": "prql4P8vh___"
      },
      "execution_count": null,
      "outputs": []
    },
    {
      "cell_type": "markdown",
      "source": [
        "Tiempo de descarga de un videojuego: Ingresar\n",
        "tamaño en GB y velocidad de internet en Mbps.\n",
        "Calcular minutos estimados de descarga.\n",
        "Convertir GB a Megabits (1 GB\n",
        "= 8192 Megabits), luego dividir\n",
        "entre velocidad."
      ],
      "metadata": {
        "id": "xE9f9fwziF5B"
      }
    },
    {
      "cell_type": "code",
      "source": [
        "print(\" CALCULADORA DE TIEMPO DE DESCARGA \")\n",
        "tamanio_gb = float(input(\"Ingrese el tamaño del archivo en GB: \"))\n",
        "velocidad_mbps = float(input(\"Ingrese la velocidad de internet en Mbps: \"))\n",
        "\n",
        "# Convertir GB a Megabits (1 GB = 8192 Megabits)\n",
        "tamanio_megabits = tamanio_gb * 8192\n",
        "\n",
        "# Calcular tiempo en segundos\n",
        "tiempo_segundos = tamanio_megabits / velocidad_mbps\n",
        "\n",
        "# Convertir a minutos\n",
        "tiempo_minutos = tiempo_segundos / 60\n",
        "\n",
        "print(f\"\\nTamaño del archivo: {tamanio_gb} GB\")\n",
        "print(f\"Velocidad de internet: {velocidad_mbps} Mbps\")\n",
        "print(f\"Tiempo estimado de descarga: {tiempo_minutos:.1f} minutos\")"
      ],
      "metadata": {
        "id": "267zT87eiI-F"
      },
      "execution_count": null,
      "outputs": []
    },
    {
      "cell_type": "markdown",
      "source": [
        "Promedio de calificaciones: Ingresar 4 notas y calcular\n",
        "el promedio final.\n",
        "Sumatoria y división. Se puede\n",
        "usar round para mejor\n",
        "presentación."
      ],
      "metadata": {
        "id": "RKbP6izSiR65"
      }
    },
    {
      "cell_type": "code",
      "source": [
        "print(\" PROMEDIO DE CALIFICACIONES \")\n",
        "nota1 = float(input(\"Ingrese la primera nota: \"))\n",
        "nota2 = float(input(\"Ingrese la segunda nota: \"))\n",
        "nota3 = float(input(\"Ingrese la tercera nota: \"))\n",
        "nota4 = float(input(\"Ingrese la cuarta nota: \"))\n",
        "\n",
        "promedio = (nota1 + nota2 + nota3 + nota4) / 4\n",
        "\n",
        "print(f\"\\nNotas ingresadas: {nota1}, {nota2}, {nota3}, {nota4}\")\n",
        "print(f\"Promedio final: {promedio:.1f}\")"
      ],
      "metadata": {
        "id": "cSLVvm4aiU7g"
      },
      "execution_count": null,
      "outputs": []
    },
    {
      "cell_type": "markdown",
      "source": [
        "Ángulo de inclinación de una rampa: Un estudiante\n",
        "de Ingeniería Civil debe calcular la pendiente en %. Se\n",
        "pide altura y distancia horizontal.\n",
        "Fórmula: (altura / base) × 100"
      ],
      "metadata": {
        "id": "e3YgeymdiXVW"
      }
    },
    {
      "cell_type": "code",
      "source": [
        "print(\" CÁLCULO DE PENDIENTE DE RAMPA \")\n",
        "altura = float(input(\"Ingrese la altura de la rampa (metros): \"))\n",
        "base = float(input(\"Ingrese la distancia horizontal de la rampa (metros): \"))\n",
        "\n",
        "if base == 0:\n",
        "    print(\"Error: La distancia horizontal no puede ser cero\")\n",
        "else:\n",
        "    pendiente_porcentaje = (altura / base) * 100\n",
        "    print(f\"\\nAltura: {altura} m\")\n",
        "    print(f\"Distancia horizontal: {base} m\")\n",
        "    print(f\"Pendiente: {pendiente_porcentaje:.1f}%\")"
      ],
      "metadata": {
        "id": "y2YFwxZci2LK"
      },
      "execution_count": null,
      "outputs": []
    },
    {
      "cell_type": "markdown",
      "source": [
        "Simulador de envío en compras online: Según el valor de\n",
        "la compra, si supera $150.000 el envío es gratis, si no cuesta\n",
        "$8.000.\n",
        "Condicional simple.\n"
      ],
      "metadata": {
        "id": "_6iNUn9Ri70T"
      }
    },
    {
      "cell_type": "code",
      "source": [
        "print(\" SIMULADOR DE ENVÍO \")\n",
        "valor_compra = float(input(\"Ingrese el valor total de la compra: $\"))\n",
        "\n",
        "costo_envio = 0 if valor_compra > 150000 else 8000\n",
        "total = valor_compra + costo_envio\n",
        "\n",
        "print(f\"\\nValor de compra: ${valor_compra:,.0f}\")\n",
        "print(f\"Costo de envío: ${costo_envio:,.0f}\")\n",
        "print(f\"TOTAL: ${total:,.0f}\")\n",
        "\n",
        "if valor_compra > 150000:\n",
        "    print(\"🎉 ¡Envío GRATIS!\")"
      ],
      "metadata": {
        "id": "Gc0oDS-vjBAz"
      },
      "execution_count": null,
      "outputs": []
    },
    {
      "cell_type": "markdown",
      "source": [
        "Clasificación de IMC: Ingresar peso y altura, calcular IMC\n",
        "y clasificar.\n",
        "Calcular IMC y usar\n",
        "condiciones múltiples.\n"
      ],
      "metadata": {
        "id": "ksW4_kEYjD18"
      }
    },
    {
      "cell_type": "code",
      "source": [
        "print(\" CALCULADORA DE IMC \")\n",
        "peso = float(input(\"Ingrese su peso en kg: \"))\n",
        "altura = float(input(\"Ingrese su altura en metros: \"))\n",
        "\n",
        "imc = peso / (altura ** 2)\n",
        "\n",
        "print(f\"\\nPeso: {peso} kg\")\n",
        "print(f\"Altura: {altura} m\")\n",
        "print(f\"IMC: {imc:.1f}\")\n",
        "\n",
        "# Clasificación\n",
        "if imc < 18.5:\n",
        "    clasificacion = \"Bajo peso\"\n",
        "elif 18.5 <= imc < 25:\n",
        "    clasificacion = \"Peso normal\"\n",
        "elif 25 <= imc < 30:\n",
        "    clasificacion = \"Sobrepeso\"\n",
        "else:\n",
        "    clasificacion = \"Obesidad\"\n",
        "\n",
        "print(f\"Clasificación: {clasificacion}\")"
      ],
      "metadata": {
        "id": "UJBEskNTjIpN"
      },
      "execution_count": null,
      "outputs": []
    },
    {
      "cell_type": "markdown",
      "source": [
        "Entrada a cine con descuento: Si el estudiante es menor de\n",
        "18 o presenta carnet universitario, recibe 40 % de descuento. Operador OR.\n"
      ],
      "metadata": {
        "id": "77twgkixjawS"
      }
    },
    {
      "cell_type": "code",
      "source": [
        "print(\" CINE - CALCULADORA DE DESCUENTO \")\n",
        "edad = int(input(\"Ingrese su edad: \"))\n",
        "tiene_carnet = input(\"¿Tiene carnet universitario? (si/no): \").lower().strip()\n",
        "\n",
        "# Aplicar descuento si es menor de 18 O tiene carnet universitario\n",
        "aplica_descuento = edad < 18 or tiene_carnet == \"si\"\n",
        "\n",
        "precio_entrada = 12000\n",
        "descuento = 0.4 if aplica_descuento else 0\n",
        "precio_final = precio_entrada * (1 - descuento)\n",
        "\n",
        "print(f\"\\nPrecio normal: ${precio_entrada:,.0f}\")\n",
        "if aplica_descuento:\n",
        "    print(f\"Descuento aplicado: 40%\")\n",
        "    print(f\"Precio con descuento: ${precio_final:,.0f}\")\n",
        "else:\n",
        "    print(\"No aplica para descuento\")"
      ],
      "metadata": {
        "colab": {
          "base_uri": "https://localhost:8080/"
        },
        "id": "zlp4pOICjdSy",
        "outputId": "81f06407-4778-4c69-cba6-83deb8e42fdd"
      },
      "execution_count": 1,
      "outputs": [
        {
          "output_type": "stream",
          "name": "stdout",
          "text": [
            " CINE - CALCULADORA DE DESCUENTO \n",
            "Ingrese su edad: 30\n",
            "¿Tiene carnet universitario? (si/no): si\n",
            "\n",
            "Precio normal: $12,000\n",
            "Descuento aplicado: 40%\n",
            "Precio con descuento: $7,200\n"
          ]
        }
      ]
    },
    {
      "cell_type": "markdown",
      "source": [
        "Pago de parqueadero: Si el tiempo es menor a 1 hora,\n",
        "cobra tarifa mínima, si no cobra por hora adicional.\n",
        "If + else con\n",
        "multiplicación.\n"
      ],
      "metadata": {
        "id": "9-SOeI_9kJXm"
      }
    },
    {
      "cell_type": "code",
      "source": [
        "print(\" CALCULADORA DE PARQUEADERO \")\n",
        "tiempo_minutos = int(input(\"Ingrese el tiempo en minutos: \"))\n",
        "\n",
        "tarifa_minima = 3000\n",
        "tarifa_por_hora = 2000\n",
        "\n",
        "if tiempo_minutos <= 60:\n",
        "    total = tarifa_minima\n",
        "else:\n",
        "    # Calcular horas completas (redondeando hacia arriba)\n",
        "    horas = (tiempo_minutos + 59) // 60\n",
        "    total = tarifa_minima + (horas - 1) * tarifa_por_hora\n",
        "\n",
        "print(f\"\\nTiempo estacionado: {tiempo_minutos} minutos\")\n",
        "print(f\"Total a pagar: ${total:,.0f}\")"
      ],
      "metadata": {
        "id": "2VnCQfrZkKBc"
      },
      "execution_count": null,
      "outputs": []
    },
    {
      "cell_type": "markdown",
      "source": [
        "Validación de contraseña: Pedir una contraseña y validar si\n",
        "cumple mínimo 8 caracteres. Validar usando len()."
      ],
      "metadata": {
        "id": "HJfwLnE1kN2U"
      }
    },
    {
      "cell_type": "code",
      "source": [
        "print(\" VALIDACIÓN DE CONTRASEÑA \")\n",
        "contrasena = input(\"Ingrese su contraseña: \")\n",
        "\n",
        "if len(contrasena) >= 8:\n",
        "    print(\"✅ Contraseña válida\")\n",
        "else:\n",
        "    print(\"❌ Contraseña inválida - Debe tener al menos 8 caracteres\")"
      ],
      "metadata": {
        "id": "8xJnRxnTkREb"
      },
      "execution_count": null,
      "outputs": []
    },
    {
      "cell_type": "markdown",
      "source": [
        "Reconocimiento de triángulo: Ingresar 3 lados y\n",
        "determinar si es equilátero, isósceles o escaleno. Comparaciones lógicas."
      ],
      "metadata": {
        "id": "FfXF9cOhkVtE"
      }
    },
    {
      "cell_type": "code",
      "source": [
        "print(\" CLASIFICACIÓN DE TRIÁNGULOS \")\n",
        "lado1 = float(input(\"Ingrese el primer lado: \"))\n",
        "lado2 = float(input(\"Ingrese el segundo lado: \"))\n",
        "lado3 = float(input(\"Ingrese el tercer lado: \"))\n",
        "\n",
        "# Verificar si es un triángulo válido\n",
        "if (lado1 + lado2 > lado3) and (lado1 + lado3 > lado2) and (lado2 + lado3 > lado1):\n",
        "    if lado1 == lado2 == lado3:\n",
        "        tipo = \"EQUILÁTERO\"\n",
        "    elif lado1 == lado2 or lado1 == lado3 or lado2 == lado3:\n",
        "        tipo = \"ISÓSCELES\"\n",
        "    else:\n",
        "        tipo = \"ESCALENO\"\n",
        "    print(f\"El triángulo es: {tipo}\")\n",
        "else:\n",
        "    print(\" Los lados ingresados no forman un triángulo válido\")"
      ],
      "metadata": {
        "id": "_GojPS3akY6S"
      },
      "execution_count": null,
      "outputs": []
    },
    {
      "cell_type": "markdown",
      "source": [
        "Simulador de préstamo bancario: Si el salario mensual es\n",
        "mayor a 2 millones, aprueban crédito. Si no, niegan. Condicional básica.\n"
      ],
      "metadata": {
        "id": "q3TW1POEoemv"
      }
    },
    {
      "cell_type": "code",
      "source": [
        "print(\"=== SIMULADOR DE PRÉSTAMO BANCARIO ===\")\n",
        "salario_mensual = float(input(\"Ingrese su salario mensual: $\"))\n",
        "\n",
        "if salario_mensual > 2000000:\n",
        "    print(\"✅ ¡Préstamo APROBADO!\")\n",
        "else:\n",
        "    print(\"❌ Préstamo RECHAZADO\")\n",
        "    print(\"Su salario debe ser mayor a $2,000,000\")"
      ],
      "metadata": {
        "id": "D9gk_Tl5ofAb"
      },
      "execution_count": null,
      "outputs": []
    },
    {
      "cell_type": "markdown",
      "source": [
        "Contador de tareas completadas: Un estudiante\n",
        "registra por teclado cuántas tareas ha completado en 7\n",
        "días. Mostrar el total.\n",
        "Usar bucle for con\n",
        "acumulador."
      ],
      "metadata": {
        "id": "qGTyYIaUohFs"
      }
    },
    {
      "cell_type": "code",
      "source": [
        "print(\"=== CONTADOR DE TAREAS COMPLETADAS ===\")\n",
        "total_tareas = 0\n",
        "\n",
        "for dia in range(1, 8):\n",
        "    tareas_dia = int(input(f\"Ingrese las tareas completadas el día {dia}: \"))\n",
        "    total_tareas += tareas_dia\n",
        "\n",
        "print(f\"\\nTotal de tareas completadas en la semana: {total_tareas}\")"
      ],
      "metadata": {
        "id": "Bw_Z63JMojhl"
      },
      "execution_count": null,
      "outputs": []
    },
    {
      "cell_type": "markdown",
      "source": [
        "Simulación de ahorro mensual: Ingresar cuánto ahorra\n",
        "cada mes durante 12 meses y sumar. Bucle for con suma"
      ],
      "metadata": {
        "id": "PqpEUMeJolKn"
      }
    },
    {
      "cell_type": "code",
      "source": [
        "print(\"=== SIMULACIÓN DE AHORRO ANUAL ===\")\n",
        "ahorro_total = 0\n",
        "\n",
        "for mes in range(1, 13):\n",
        "    ahorro_mes = float(input(f\"Ingrese el ahorro del mes {mes}: $\"))\n",
        "    ahorro_total += ahorro_mes\n",
        "\n",
        "print(f\"\\nAhorro total en 12 meses: ${ahorro_total:,.0f}\")"
      ],
      "metadata": {
        "id": "0WIaCqIIooVS"
      },
      "execution_count": null,
      "outputs": []
    },
    {
      "cell_type": "markdown",
      "source": [
        " Tabla de multiplicar para repaso: Ingresar un número\n",
        "y mostrar su tabla hasta el 12. Bucle for."
      ],
      "metadata": {
        "id": "pqWfayPbr_c3"
      }
    },
    {
      "cell_type": "code",
      "source": [
        "print(\" TABLA DE MULTIPLICAR \")\n",
        "numero = int(input(\"Ingrese un número para generar su tabla: \"))\n",
        "\n",
        "print(f\"\\nTabla del {numero}:\")\n",
        "for i in range(1, 13):\n",
        "    resultado = numero * i\n",
        "    print(f\"{numero} x {i:2} = {resultado:3}\")"
      ],
      "metadata": {
        "id": "juyqMrHSr9rA"
      },
      "execution_count": null,
      "outputs": []
    },
    {
      "cell_type": "markdown",
      "source": [
        "Control de intentos de login: Permitir al usuario\n",
        "ingresar contraseña hasta 3 intentos. Bucle while con contador.\n"
      ],
      "metadata": {
        "id": "OtWhKnvDsFp7"
      }
    },
    {
      "cell_type": "code",
      "source": [
        "print(\" SISTEMA DE LOGIN \")\n",
        "contrasena_correcta = \"python123\"\n",
        "intentos = 3\n",
        "acceso_concedido = False\n",
        "\n",
        "while intentos > 0:\n",
        "    contrasena = input(f\"Ingrese la contraseña ({intentos} intentos restantes): \")\n",
        "\n",
        "    if contrasena == contrasena_correcta:\n",
        "        acceso_concedido = True\n",
        "        break\n",
        "    else:\n",
        "        print(\" Contraseña incorrecta\")\n",
        "        intentos -= 1\n",
        "\n",
        "if acceso_concedido:\n",
        "    print(\" ¡Acceso concedido!\")\n",
        "else:\n",
        "    print(\" Cuenta bloqueada - Demasiados intentos fallidos\")"
      ],
      "metadata": {
        "id": "Odi_pEtVsJgo"
      },
      "execution_count": null,
      "outputs": []
    },
    {
      "cell_type": "markdown",
      "source": [
        "Conteo de estudiantes aprobados: Pedir 10 notas y\n",
        "contar cuántos aprobaron (>3.0). For + condicional + contador"
      ],
      "metadata": {
        "id": "3DIt_8rfspp6"
      }
    },
    {
      "cell_type": "code",
      "source": [
        "print(\" CONTEO DE ESTUDIANTES APROBADOS \")\n",
        "aprobados = 0\n",
        "total_estudiantes = 10\n",
        "\n",
        "for i in range(1, total_estudiantes + 1):\n",
        "    nota = float(input(f\"Ingrese la nota del estudiante {i}: \"))\n",
        "    if nota >= 3.0:\n",
        "        aprobados += 1\n",
        "\n",
        "reprobados = total_estudiantes - aprobados\n",
        "\n",
        "print(f\"\\n--- RESULTADOS ---\")\n",
        "print(f\"Estudiantes aprobados: {aprobados}\")\n",
        "print(f\"Estudiantes reprobados: {reprobados}\")\n",
        "print(f\"Porcentaje de aprobación: {(aprobados/total_estudiantes)*100:.1f}%\")"
      ],
      "metadata": {
        "id": "XLGGKWM7sruS"
      },
      "execution_count": null,
      "outputs": []
    },
    {
      "cell_type": "markdown",
      "source": [
        "Sumatoria de pares e impares: Pedir 8 números y\n",
        "calcular la suma de pares y de impares por separado. For + if + acumuladores."
      ],
      "metadata": {
        "id": "vsXVbpV6svDj"
      }
    },
    {
      "cell_type": "code",
      "source": [
        "print(\"=== SUMATORIA DE PARES E IMPARES ===\")\n",
        "suma_pares = 0\n",
        "suma_impares = 0\n",
        "\n",
        "for i in range(1, 9):\n",
        "    numero = int(input(f\"Ingrese el número {i}: \"))\n",
        "\n",
        "    if numero % 2 == 0:\n",
        "        suma_pares += numero\n",
        "    else:\n",
        "        suma_impares += numero\n",
        "\n",
        "print(f\"\\n--- RESULTADOS ---\")\n",
        "print(f\"Suma de números pares: {suma_pares}\")\n",
        "print(f\"Suma de números impares: {suma_impares}\")\n",
        "print(f\"Suma total: {suma_pares + suma_impares}\")"
      ],
      "metadata": {
        "id": "baPqUfOJsvkz"
      },
      "execution_count": null,
      "outputs": []
    },
    {
      "cell_type": "markdown",
      "source": [
        "Generador de números primos: Mostrar los primeros\n",
        "N números primos (N ingresado).\n",
        "While + lógica de\n",
        "verificación de primos (reto\n",
        "medio)."
      ],
      "metadata": {
        "id": "voWBnGAvsxGC"
      }
    },
    {
      "cell_type": "code",
      "source": [
        "print(\" GENERADOR DE NÚMEROS PRIMOS \")\n",
        "\n",
        "# Solicitar al usuario cuántos números primos quiere generar\n",
        "n = int(input(\"Ingrese la cantidad de números primos a generar: \"))\n",
        "\n",
        "print(f\"\\nLos primeros {n} números primos son:\")\n",
        "\n",
        "contador = 0  # Contador de números primos encontrados\n",
        "numero_actual = 2  # Empezamos desde el primer número primo\n",
        "primos_encontrados = []  # Lista para almacenar los números primos\n",
        "\n",
        "while contador < n:\n",
        "    es_primo = True  # Asumimos que el número actual es primo\n",
        "\n",
        "    # Verificar si el número actual es primo\n",
        "    if numero_actual < 2:\n",
        "        es_primo = False\n",
        "    else:\n",
        "        # Probamos divisores desde 2 hasta la raíz cuadrada del número\n",
        "        divisor = 2\n",
        "        while divisor * divisor <= numero_actual:\n",
        "            if numero_actual % divisor == 0:\n",
        "                es_primo = False\n",
        "                break\n",
        "            divisor += 1\n",
        "\n",
        "    # Si es primo, lo agregamos a la lista\n",
        "    if es_primo:\n",
        "        primos_encontrados.append(numero_actual)\n",
        "        contador += 1\n",
        "\n",
        "    numero_actual += 1  # Pasamos al siguiente número\n",
        "\n",
        "# Mostrar los resultados\n",
        "print(\"Números primos encontrados:\", primos_encontrados)\n",
        "print(f\"Total: {len(primos_encontrados)} números primos\")"
      ],
      "metadata": {
        "colab": {
          "base_uri": "https://localhost:8080/"
        },
        "id": "jXm5JPNos260",
        "outputId": "70c6941d-3646-44a1-c2a2-8e3367298800"
      },
      "execution_count": 2,
      "outputs": [
        {
          "output_type": "stream",
          "name": "stdout",
          "text": [
            "=== GENERADOR DE NÚMEROS PRIMOS ===\n",
            "Ingrese la cantidad de números primos a generar: 8\n",
            "\n",
            "Los primeros 8 números primos son:\n",
            "Números primos encontrados: [2, 3, 5, 7, 11, 13, 17, 19]\n",
            "Total: 8 números primos\n"
          ]
        }
      ]
    }
  ]
}