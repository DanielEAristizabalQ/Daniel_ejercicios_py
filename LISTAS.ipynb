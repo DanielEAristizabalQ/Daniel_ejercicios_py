{
  "nbformat": 4,
  "nbformat_minor": 0,
  "metadata": {
    "colab": {
      "provenance": [],
      "authorship_tag": "ABX9TyN+KeZWKDTUEQIKJiBjOqFD",
      "include_colab_link": true
    },
    "kernelspec": {
      "name": "python3",
      "display_name": "Python 3"
    },
    "language_info": {
      "name": "python"
    }
  },
  "cells": [
    {
      "cell_type": "markdown",
      "metadata": {
        "id": "view-in-github",
        "colab_type": "text"
      },
      "source": [
        "<a href=\"https://colab.research.google.com/github/DanielEAristizabalQ/Daniel_ejercicios_py/blob/main/LISTAS.ipynb\" target=\"_parent\"><img src=\"https://colab.research.google.com/assets/colab-badge.svg\" alt=\"Open In Colab\"/></a>"
      ]
    },
    {
      "cell_type": "code",
      "execution_count": 2,
      "metadata": {
        "colab": {
          "base_uri": "https://localhost:8080/"
        },
        "id": "qhWQv4yqnelY",
        "outputId": "c2a7d9e5-28d2-4454-b9d3-7ed668975d11"
      },
      "outputs": [
        {
          "output_type": "stream",
          "name": "stdout",
          "text": [
            "['manzana', 'pera', 'banana']\n"
          ]
        }
      ],
      "source": [
        "#lista de frutas\n",
        "#entrada\n",
        "frutas = [\"manzana\", \"pera\", \"banana\"]\n",
        "#proceso\n",
        "print (frutas)"
      ]
    },
    {
      "cell_type": "code",
      "source": [
        "#lista bidimensional\n",
        "matriz = [[1, 2, 3], [4, 5, 6], [7, 8, 9]]\n",
        "#proceso\n",
        "print (matriz)\n",
        "print (matriz[1][2])\n",
        "print (matriz[2][2])\n",
        "print (matriz[0][0],"
      ],
      "metadata": {
        "colab": {
          "base_uri": "https://localhost:8080/"
        },
        "id": "YEMl2b_In10e",
        "outputId": "7b7481ba-359b-42a8-b17e-49201a13100d"
      },
      "execution_count": 5,
      "outputs": [
        {
          "output_type": "stream",
          "name": "stdout",
          "text": [
            "[[1, 2, 3], [4, 5, 6], [7, 8, 9]]\n",
            "6\n",
            "9\n"
          ]
        }
      ]
    },
    {
      "cell_type": "code",
      "source": [
        "apellidos= [\"aristizabal\", \"castañeda\", \"rodriguez\",\"perdomo\", \" montealegre\", \"charrdomo\", \"carrillo\", \"ronaldo\", \"charry\", \"calderon\", \"pinzon\", \"vidales\", \"quintana\", \"dueñas\", \"padilla\", \"chavez\"]\n",
        "print (f\"estudiantes son {apellidos}\")"
      ],
      "metadata": {
        "colab": {
          "base_uri": "https://localhost:8080/"
        },
        "id": "QCJz8JThpN0B",
        "outputId": "d7feaefc-3ad6-4ade-d7e0-cf0f5b55bec7"
      },
      "execution_count": 6,
      "outputs": [
        {
          "output_type": "stream",
          "name": "stdout",
          "text": [
            "estudiantes son ['aristizabal', 'castañeda', 'rodriguez', 'perdomo', ' montealegre', 'charrdomo', 'carrillo', 'ronaldo', 'charry', 'calderon', 'pinzon', 'vidales', 'quintana', 'dueñas', 'padilla', 'chavez']\n"
          ]
        }
      ]
    },
    {
      "cell_type": "code",
      "source": [
        "#entrada\n",
        "calificaciones = [[\"ana\", 85, 90], [\"luis\", 78, 82], [\"carlos\", 92, 82], [\"miguel\", 92, 88]]\n",
        "print (\"calificaciones\")\n",
        "for fila in calificaciones:\n",
        "  print (fila)"
      ],
      "metadata": {
        "colab": {
          "base_uri": "https://localhost:8080/"
        },
        "id": "2V8nMi7KqrSE",
        "outputId": "d0dbec63-9255-4f11-85b1-c367f366d07e"
      },
      "execution_count": 8,
      "outputs": [
        {
          "output_type": "stream",
          "name": "stdout",
          "text": [
            "calificaciones\n",
            "['ana', 85, 90]\n",
            "['luis', 78, 82]\n",
            "['carlos', 92, 82]\n",
            "[]\n"
          ]
        }
      ]
    },
    {
      "cell_type": "code",
      "source": [
        "#entrada\n",
        "comidas = [[\"hamburguesa\", 10, 8], [\"pizza\", 9, 9], [\"perro_caliente\", 8, 5]\n",
        "print(\"comidas\")\n",
        "for fila in comidas:\n",
        "  print(fila)"
      ],
      "metadata": {
        "id": "yKfM32Vls-pq"
      },
      "execution_count": null,
      "outputs": []
    },
    {
      "cell_type": "code",
      "source": [
        "#entrada\n",
        "frutas = [\"manzana\", \"pera\", \"banana\"]\n",
        "#proceso\n",
        "print (frutas[0])\n",
        "print (frutas[1])\n",
        "print (frutas[2])"
      ],
      "metadata": {
        "colab": {
          "base_uri": "https://localhost:8080/"
        },
        "id": "LZGglk9luXdS",
        "outputId": "5ceeff83-81d0-4e68-cdd6-1dfbc1733d01"
      },
      "execution_count": 9,
      "outputs": [
        {
          "output_type": "stream",
          "name": "stdout",
          "text": [
            "manzana\n"
          ]
        }
      ]
    },
    {
      "cell_type": "code",
      "source": [
        "frutas[1]= \"kiwi\"\n",
        "print (f\"frutas modoficadas {frutas}\")\n",
        "frutas[2] = \"uva\"\n",
        "frutas [0] = \"\""
      ],
      "metadata": {
        "colab": {
          "base_uri": "https://localhost:8080/"
        },
        "id": "-fMmFBtJu4Jl",
        "outputId": "88ac1400-f950-4cd4-f215-397ccedbb271"
      },
      "execution_count": 10,
      "outputs": [
        {
          "output_type": "stream",
          "name": "stdout",
          "text": [
            "frutas modoficadas ['manzana', 'kiwi', 'banana']\n"
          ]
        }
      ]
    },
    {
      "cell_type": "code",
      "source": [
        "#recorrer la lista\n",
        "for fruta in frutas:\n",
        "  print (f\"fruta: {fruta}\")"
      ],
      "metadata": {
        "colab": {
          "base_uri": "https://localhost:8080/"
        },
        "id": "lcDOAeevvjlT",
        "outputId": "b09d0820-c417-4bb7-f1fd-de81a5c15885"
      },
      "execution_count": 11,
      "outputs": [
        {
          "output_type": "stream",
          "name": "stdout",
          "text": [
            "fruta: manzana\n",
            "fruta: kiwi\n",
            "fruta: banana\n"
          ]
        }
      ]
    },
    {
      "cell_type": "code",
      "source": [
        "#suma lista de numeros\n",
        "numeros = [[5, 10, 8, 2, 12], []]\n",
        "suma = sum(numeros)\n",
        "print (f\"la suma de los numeros es {suma}\")"
      ],
      "metadata": {
        "colab": {
          "base_uri": "https://localhost:8080/"
        },
        "id": "ZXKOJcsHwcGY",
        "outputId": "bfe19085-25d8-46c5-d6aa-562f02e5351c"
      },
      "execution_count": 12,
      "outputs": [
        {
          "output_type": "stream",
          "name": "stdout",
          "text": [
            "la suma de los numeros es 37\n"
          ]
        }
      ]
    },
    {
      "cell_type": "markdown",
      "source": [
        "una matriz 3 por 3 con numeros aleatorios y encontrar el valor mayor de cada fila"
      ],
      "metadata": {
        "id": "izrPA4gCxShm"
      }
    },
    {
      "cell_type": "code",
      "source": [
        "#matriz 3 x 3\n",
        "matriz = [[3, 7, 2], [9, 1, 4], [6, 5, 8]]\n",
        "#proceso\n",
        "for fila in matriz:\n",
        "  mayor = max(fila)\n",
        "  menor = min(fila)\n",
        "  print (f\"el valor mayor de la fila es {mayor} y el valor menor es {menor}\")\n",
        ""
      ],
      "metadata": {
        "colab": {
          "base_uri": "https://localhost:8080/"
        },
        "id": "d9TJg0BOxab5",
        "outputId": "0d41f7cf-192e-41d3-e283-b1977317ef11"
      },
      "execution_count": 15,
      "outputs": [
        {
          "output_type": "stream",
          "name": "stdout",
          "text": [
            "el valor mayor de la fila es 7 y el valor menor es 2\n",
            "la suma de los mayores es 12\n",
            "el valor mayor de la fila es 9 y el valor menor es 1\n",
            "la suma de los mayores es 14\n",
            "el valor mayor de la fila es 8 y el valor menor es 5\n",
            "la suma de los mayores es 19\n"
          ]
        }
      ]
    },
    {
      "cell_type": "code",
      "source": [
        "#filtrar edades\n",
        "edades = [12, 25, 17, 30, 19]\n",
        "mayores = [edad for edad in edades if edad >= 18]\n",
        "print (f\"las edades mayores son {mayores}\")"
      ],
      "metadata": {
        "colab": {
          "base_uri": "https://localhost:8080/"
        },
        "id": "jAjDDrhq0JC6",
        "outputId": "e7498fb7-b2ec-4515-ee62-7617c525c8e5"
      },
      "execution_count": 16,
      "outputs": [
        {
          "output_type": "stream",
          "name": "stdout",
          "text": [
            "las edades mayores son [25, 30, 19]\n"
          ]
        }
      ]
    },
    {
      "cell_type": "code",
      "source": [
        "#crear lista de cuadrados del 0 al 9\n",
        "cuadrados = [x**2 for x in range(10)]\n",
        "print (f\"los cuadrados son {cuadrados}\")"
      ],
      "metadata": {
        "colab": {
          "base_uri": "https://localhost:8080/"
        },
        "id": "QXl_d0QY1Fd0",
        "outputId": "ad006fe0-1a7b-47d9-9245-50444de49c30"
      },
      "execution_count": 17,
      "outputs": [
        {
          "output_type": "stream",
          "name": "stdout",
          "text": [
            "los cuadrados son [0, 1, 4, 9, 16, 25, 36, 49, 64, 81]\n"
          ]
        }
      ]
    },
    {
      "cell_type": "code",
      "source": [
        "#filtrar numeros pares del 0 al 19\n",
        "pares = [x for x in range(20) if x % 2 == 0]\n",
        "print (f\"los numeros pares son {pares}\")\n",
        "#"
      ],
      "metadata": {
        "id": "G37abQsY1diA"
      },
      "execution_count": null,
      "outputs": []
    },
    {
      "cell_type": "code",
      "source": [
        "#tablero tic-tac-toe\n",
        "tablero =[[\"x\", \"o\", \"x\" ],\n",
        "          [\"o\", \"x\", \"o\" ],\n",
        "          [\"x\", \"o\", \"\" ]\n",
        "          ]\n",
        "print(\"tablero\")\n",
        "for fila in tablero:\n",
        "  print(fila)"
      ],
      "metadata": {
        "colab": {
          "base_uri": "https://localhost:8080/"
        },
        "id": "coew0IMc8VI2",
        "outputId": "05a64b04-4ea6-4d36-d063-6bd965a362db"
      },
      "execution_count": 18,
      "outputs": [
        {
          "output_type": "stream",
          "name": "stdout",
          "text": [
            "tablero\n",
            "['x', 'o', 'x']\n",
            "['o', 'x', 'o']\n",
            "['x', 'o', '']\n"
          ]
        }
      ]
    },
    {
      "cell_type": "code",
      "source": [
        "import random\n",
        "temperaturas =[[random.randint(15, 35) for _ in range(5) ] for _ in range(5)]\n",
        "print(\"temperaturas\")\n",
        "for fila in temperaturas:\n",
        "  print(fila)\n",
        "max_tempera = max(max(fila) for fila in temperaturas)\n",
        "print (f\"temperatura mas alta es {max_tempera}\")"
      ],
      "metadata": {
        "colab": {
          "base_uri": "https://localhost:8080/"
        },
        "id": "zd_Vkdfn9cZ6",
        "outputId": "20fdefdb-2ac9-42fa-c6b4-511b5458b696"
      },
      "execution_count": 21,
      "outputs": [
        {
          "output_type": "stream",
          "name": "stdout",
          "text": [
            "temperaturas\n",
            "[21, 26, 29, 24, 32]\n",
            "[15, 32, 22, 18, 19]\n",
            "[17, 20, 34, 15, 19]\n",
            "[22, 25, 28, 32, 19]\n",
            "[28, 16, 24, 33, 32]\n",
            "temperatura mas alta es34\n"
          ]
        }
      ]
    },
    {
      "cell_type": "code",
      "source": [
        "#matriz 4x 4\n",
        "import random\n",
        "matriz = [[random.randint(1, 100) for _ in range(4)] for _ in range(4)]\n",
        "mayores_50 = [num for fila in matriz for num in fila if num > 50]\n",
        "print(\"matriz\")\n",
        "for fila in matriz:\n",
        "  print(fila)\n",
        "print(f\"mayores de 50 son {mayores_50}\")"
      ],
      "metadata": {
        "colab": {
          "base_uri": "https://localhost:8080/"
        },
        "id": "2qakt8vU_yGz",
        "outputId": "698550e4-5b34-40cb-a9ed-9f1339499c6a"
      },
      "execution_count": 22,
      "outputs": [
        {
          "output_type": "stream",
          "name": "stdout",
          "text": [
            "matriz\n",
            "[55, 61, 81, 34]\n",
            "[1, 45, 79, 16]\n",
            "[70, 8, 4, 29]\n",
            "[14, 35, 38, 35]\n",
            "mayores de 50 son [55, 61, 81, 79, 70]\n"
          ]
        }
      ]
    }
  ]
}